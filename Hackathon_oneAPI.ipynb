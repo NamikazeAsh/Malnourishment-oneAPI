{
  "cells": [
    {
      "cell_type": "code",
      "execution_count": 1,
      "id": "b5e02131-d4a8-4e5f-b8f4-a4170ab542d6",
      "metadata": {
        "id": "b5e02131-d4a8-4e5f-b8f4-a4170ab542d6",
        "outputId": "05240654-11fe-4c64-8d51-f833f734fc9c",
        "colab": {
          "base_uri": "https://localhost:8080/"
        }
      },
      "outputs": [
        {
          "output_type": "stream",
          "name": "stdout",
          "text": [
            "['.config', 'sample_data']\n"
          ]
        }
      ],
      "source": [
        "import numpy as np\n",
        "import pandas as pd\n",
        "import matplotlib.pyplot as plt\n",
        "import seaborn as sns\n",
        "\n",
        "%matplotlib inline\n",
        "\n",
        "import os\n",
        "print(os.listdir())\n",
        "\n",
        "import warnings\n",
        "warnings.filterwarnings('ignore')"
      ]
    },
    {
      "cell_type": "code",
      "source": [
        "from google.colab import drive\n",
        "drive.mount('/content/drive')"
      ],
      "metadata": {
        "colab": {
          "base_uri": "https://localhost:8080/"
        },
        "id": "0gx6JMRC_Ij6",
        "outputId": "922e2a35-8c15-403f-9f14-73db2a4e77d7"
      },
      "id": "0gx6JMRC_Ij6",
      "execution_count": 2,
      "outputs": [
        {
          "output_type": "stream",
          "name": "stdout",
          "text": [
            "Mounted at /content/drive\n"
          ]
        }
      ]
    },
    {
      "cell_type": "code",
      "execution_count": 3,
      "id": "1dbe821a-0995-4841-aebf-8a3f554499e3",
      "metadata": {
        "id": "1dbe821a-0995-4841-aebf-8a3f554499e3"
      },
      "outputs": [],
      "source": [
        "# dt = pd.read_csv(\"heart.csv\")\n",
        "dt = pd.read_csv(\"/content/drive/MyDrive/Colab Notebooks/country-wise-average.csv\")"
      ]
    },
    {
      "cell_type": "code",
      "execution_count": 4,
      "id": "02c1b8d0-3df4-4358-80a8-907b94d76d69",
      "metadata": {
        "id": "02c1b8d0-3df4-4358-80a8-907b94d76d69",
        "outputId": "c6d8ffd8-e3bc-4e3e-9502-a82ee8d667e5",
        "colab": {
          "base_uri": "https://localhost:8080/"
        }
      },
      "outputs": [
        {
          "output_type": "execute_result",
          "data": {
            "text/plain": [
              "pandas.core.frame.DataFrame"
            ]
          },
          "metadata": {},
          "execution_count": 4
        }
      ],
      "source": [
        "type(dt)"
      ]
    },
    {
      "cell_type": "code",
      "execution_count": 5,
      "id": "8c524322-611d-4520-9c25-0692ecd1d855",
      "metadata": {
        "id": "8c524322-611d-4520-9c25-0692ecd1d855",
        "outputId": "873a7a55-cc41-4f35-b2af-21d01a04f84d",
        "colab": {
          "base_uri": "https://localhost:8080/"
        }
      },
      "outputs": [
        {
          "output_type": "execute_result",
          "data": {
            "text/plain": [
              "(152, 8)"
            ]
          },
          "metadata": {},
          "execution_count": 5
        }
      ],
      "source": [
        "dt.shape"
      ]
    },
    {
      "cell_type": "code",
      "execution_count": 6,
      "id": "24754770-5fed-43a0-b818-426d63c105d4",
      "metadata": {
        "id": "24754770-5fed-43a0-b818-426d63c105d4",
        "outputId": "327e6c64-c331-4329-c987-b69992754e0b",
        "colab": {
          "base_uri": "https://localhost:8080/",
          "height": 305
        }
      },
      "outputs": [
        {
          "output_type": "execute_result",
          "data": {
            "text/plain": [
              "       Country  IncomeClassification  Severe Wasting    Wasting  Overweight  \\\n",
              "0  AFGHANISTAN                     0        3.033333  10.350000    5.125000   \n",
              "1      ALBANIA                     2        4.075000   7.760000   20.800000   \n",
              "2      ALGERIA                     2        2.733333   5.942857   12.833333   \n",
              "3       ANGOLA                     1        2.400000   6.933333    2.550000   \n",
              "4    ARGENTINA                     2        0.200000   2.150000   11.125000   \n",
              "\n",
              "    Stunting  Underweight  U5 Population ('000s)  \n",
              "0  47.775000    30.375000            4918.561500  \n",
              "1  24.160000     7.700000             232.859800  \n",
              "2  19.571429     7.342857            3565.213143  \n",
              "3  42.633333    23.600000            3980.054000  \n",
              "4  10.025000     2.600000            3613.651750  "
            ],
            "text/html": [
              "\n",
              "  <div id=\"df-b374063e-8617-44a0-a1c8-3271e51afe7c\">\n",
              "    <div class=\"colab-df-container\">\n",
              "      <div>\n",
              "<style scoped>\n",
              "    .dataframe tbody tr th:only-of-type {\n",
              "        vertical-align: middle;\n",
              "    }\n",
              "\n",
              "    .dataframe tbody tr th {\n",
              "        vertical-align: top;\n",
              "    }\n",
              "\n",
              "    .dataframe thead th {\n",
              "        text-align: right;\n",
              "    }\n",
              "</style>\n",
              "<table border=\"1\" class=\"dataframe\">\n",
              "  <thead>\n",
              "    <tr style=\"text-align: right;\">\n",
              "      <th></th>\n",
              "      <th>Country</th>\n",
              "      <th>IncomeClassification</th>\n",
              "      <th>Severe Wasting</th>\n",
              "      <th>Wasting</th>\n",
              "      <th>Overweight</th>\n",
              "      <th>Stunting</th>\n",
              "      <th>Underweight</th>\n",
              "      <th>U5 Population ('000s)</th>\n",
              "    </tr>\n",
              "  </thead>\n",
              "  <tbody>\n",
              "    <tr>\n",
              "      <th>0</th>\n",
              "      <td>AFGHANISTAN</td>\n",
              "      <td>0</td>\n",
              "      <td>3.033333</td>\n",
              "      <td>10.350000</td>\n",
              "      <td>5.125000</td>\n",
              "      <td>47.775000</td>\n",
              "      <td>30.375000</td>\n",
              "      <td>4918.561500</td>\n",
              "    </tr>\n",
              "    <tr>\n",
              "      <th>1</th>\n",
              "      <td>ALBANIA</td>\n",
              "      <td>2</td>\n",
              "      <td>4.075000</td>\n",
              "      <td>7.760000</td>\n",
              "      <td>20.800000</td>\n",
              "      <td>24.160000</td>\n",
              "      <td>7.700000</td>\n",
              "      <td>232.859800</td>\n",
              "    </tr>\n",
              "    <tr>\n",
              "      <th>2</th>\n",
              "      <td>ALGERIA</td>\n",
              "      <td>2</td>\n",
              "      <td>2.733333</td>\n",
              "      <td>5.942857</td>\n",
              "      <td>12.833333</td>\n",
              "      <td>19.571429</td>\n",
              "      <td>7.342857</td>\n",
              "      <td>3565.213143</td>\n",
              "    </tr>\n",
              "    <tr>\n",
              "      <th>3</th>\n",
              "      <td>ANGOLA</td>\n",
              "      <td>1</td>\n",
              "      <td>2.400000</td>\n",
              "      <td>6.933333</td>\n",
              "      <td>2.550000</td>\n",
              "      <td>42.633333</td>\n",
              "      <td>23.600000</td>\n",
              "      <td>3980.054000</td>\n",
              "    </tr>\n",
              "    <tr>\n",
              "      <th>4</th>\n",
              "      <td>ARGENTINA</td>\n",
              "      <td>2</td>\n",
              "      <td>0.200000</td>\n",
              "      <td>2.150000</td>\n",
              "      <td>11.125000</td>\n",
              "      <td>10.025000</td>\n",
              "      <td>2.600000</td>\n",
              "      <td>3613.651750</td>\n",
              "    </tr>\n",
              "  </tbody>\n",
              "</table>\n",
              "</div>\n",
              "      <button class=\"colab-df-convert\" onclick=\"convertToInteractive('df-b374063e-8617-44a0-a1c8-3271e51afe7c')\"\n",
              "              title=\"Convert this dataframe to an interactive table.\"\n",
              "              style=\"display:none;\">\n",
              "        \n",
              "  <svg xmlns=\"http://www.w3.org/2000/svg\" height=\"24px\"viewBox=\"0 0 24 24\"\n",
              "       width=\"24px\">\n",
              "    <path d=\"M0 0h24v24H0V0z\" fill=\"none\"/>\n",
              "    <path d=\"M18.56 5.44l.94 2.06.94-2.06 2.06-.94-2.06-.94-.94-2.06-.94 2.06-2.06.94zm-11 1L8.5 8.5l.94-2.06 2.06-.94-2.06-.94L8.5 2.5l-.94 2.06-2.06.94zm10 10l.94 2.06.94-2.06 2.06-.94-2.06-.94-.94-2.06-.94 2.06-2.06.94z\"/><path d=\"M17.41 7.96l-1.37-1.37c-.4-.4-.92-.59-1.43-.59-.52 0-1.04.2-1.43.59L10.3 9.45l-7.72 7.72c-.78.78-.78 2.05 0 2.83L4 21.41c.39.39.9.59 1.41.59.51 0 1.02-.2 1.41-.59l7.78-7.78 2.81-2.81c.8-.78.8-2.07 0-2.86zM5.41 20L4 18.59l7.72-7.72 1.47 1.35L5.41 20z\"/>\n",
              "  </svg>\n",
              "      </button>\n",
              "      \n",
              "  <style>\n",
              "    .colab-df-container {\n",
              "      display:flex;\n",
              "      flex-wrap:wrap;\n",
              "      gap: 12px;\n",
              "    }\n",
              "\n",
              "    .colab-df-convert {\n",
              "      background-color: #E8F0FE;\n",
              "      border: none;\n",
              "      border-radius: 50%;\n",
              "      cursor: pointer;\n",
              "      display: none;\n",
              "      fill: #1967D2;\n",
              "      height: 32px;\n",
              "      padding: 0 0 0 0;\n",
              "      width: 32px;\n",
              "    }\n",
              "\n",
              "    .colab-df-convert:hover {\n",
              "      background-color: #E2EBFA;\n",
              "      box-shadow: 0px 1px 2px rgba(60, 64, 67, 0.3), 0px 1px 3px 1px rgba(60, 64, 67, 0.15);\n",
              "      fill: #174EA6;\n",
              "    }\n",
              "\n",
              "    [theme=dark] .colab-df-convert {\n",
              "      background-color: #3B4455;\n",
              "      fill: #D2E3FC;\n",
              "    }\n",
              "\n",
              "    [theme=dark] .colab-df-convert:hover {\n",
              "      background-color: #434B5C;\n",
              "      box-shadow: 0px 1px 3px 1px rgba(0, 0, 0, 0.15);\n",
              "      filter: drop-shadow(0px 1px 2px rgba(0, 0, 0, 0.3));\n",
              "      fill: #FFFFFF;\n",
              "    }\n",
              "  </style>\n",
              "\n",
              "      <script>\n",
              "        const buttonEl =\n",
              "          document.querySelector('#df-b374063e-8617-44a0-a1c8-3271e51afe7c button.colab-df-convert');\n",
              "        buttonEl.style.display =\n",
              "          google.colab.kernel.accessAllowed ? 'block' : 'none';\n",
              "\n",
              "        async function convertToInteractive(key) {\n",
              "          const element = document.querySelector('#df-b374063e-8617-44a0-a1c8-3271e51afe7c');\n",
              "          const dataTable =\n",
              "            await google.colab.kernel.invokeFunction('convertToInteractive',\n",
              "                                                     [key], {});\n",
              "          if (!dataTable) return;\n",
              "\n",
              "          const docLinkHtml = 'Like what you see? Visit the ' +\n",
              "            '<a target=\"_blank\" href=https://colab.research.google.com/notebooks/data_table.ipynb>data table notebook</a>'\n",
              "            + ' to learn more about interactive tables.';\n",
              "          element.innerHTML = '';\n",
              "          dataTable['output_type'] = 'display_data';\n",
              "          await google.colab.output.renderOutput(dataTable, element);\n",
              "          const docLink = document.createElement('div');\n",
              "          docLink.innerHTML = docLinkHtml;\n",
              "          element.appendChild(docLink);\n",
              "        }\n",
              "      </script>\n",
              "    </div>\n",
              "  </div>\n",
              "  "
            ]
          },
          "metadata": {},
          "execution_count": 6
        }
      ],
      "source": [
        "dt.head(5)"
      ]
    },
    {
      "cell_type": "code",
      "execution_count": 7,
      "id": "6f64ff97-0f2f-42e8-896c-9d4b6282bf0d",
      "metadata": {
        "id": "6f64ff97-0f2f-42e8-896c-9d4b6282bf0d",
        "outputId": "9c63f09f-4916-44a6-e827-69e44088c6db",
        "colab": {
          "base_uri": "https://localhost:8080/",
          "height": 357
        }
      },
      "outputs": [
        {
          "output_type": "execute_result",
          "data": {
            "text/plain": [
              "                       Country  IncomeClassification  Severe Wasting  \\\n",
              "109  REPUBLIC OF MOLDOVA (THE)                     1            1.45   \n",
              "11                     BELARUS                     2            0.60   \n",
              "97                     NIGERIA                     1            4.38   \n",
              "118                 SEYCHELLES                     3            1.20   \n",
              "134                      TONGA                     2            2.10   \n",
              "\n",
              "       Wasting  Overweight   Stunting  Underweight  U5 Population ('000s)  \n",
              "109   3.850000    6.900000   8.550000     2.700000              215.55150  \n",
              "11    2.200000    9.700000   4.500000     1.300000              445.67600  \n",
              "97   12.045455    4.890909  39.463636    26.681818            26759.82036  \n",
              "118   3.500000    8.000000   7.800000     4.300000                8.10650  \n",
              "134   3.250000   17.300000   5.150000     1.900000               13.90050  "
            ],
            "text/html": [
              "\n",
              "  <div id=\"df-524cded3-30a2-463e-8510-c3b9bff5a6b7\">\n",
              "    <div class=\"colab-df-container\">\n",
              "      <div>\n",
              "<style scoped>\n",
              "    .dataframe tbody tr th:only-of-type {\n",
              "        vertical-align: middle;\n",
              "    }\n",
              "\n",
              "    .dataframe tbody tr th {\n",
              "        vertical-align: top;\n",
              "    }\n",
              "\n",
              "    .dataframe thead th {\n",
              "        text-align: right;\n",
              "    }\n",
              "</style>\n",
              "<table border=\"1\" class=\"dataframe\">\n",
              "  <thead>\n",
              "    <tr style=\"text-align: right;\">\n",
              "      <th></th>\n",
              "      <th>Country</th>\n",
              "      <th>IncomeClassification</th>\n",
              "      <th>Severe Wasting</th>\n",
              "      <th>Wasting</th>\n",
              "      <th>Overweight</th>\n",
              "      <th>Stunting</th>\n",
              "      <th>Underweight</th>\n",
              "      <th>U5 Population ('000s)</th>\n",
              "    </tr>\n",
              "  </thead>\n",
              "  <tbody>\n",
              "    <tr>\n",
              "      <th>109</th>\n",
              "      <td>REPUBLIC OF MOLDOVA (THE)</td>\n",
              "      <td>1</td>\n",
              "      <td>1.45</td>\n",
              "      <td>3.850000</td>\n",
              "      <td>6.900000</td>\n",
              "      <td>8.550000</td>\n",
              "      <td>2.700000</td>\n",
              "      <td>215.55150</td>\n",
              "    </tr>\n",
              "    <tr>\n",
              "      <th>11</th>\n",
              "      <td>BELARUS</td>\n",
              "      <td>2</td>\n",
              "      <td>0.60</td>\n",
              "      <td>2.200000</td>\n",
              "      <td>9.700000</td>\n",
              "      <td>4.500000</td>\n",
              "      <td>1.300000</td>\n",
              "      <td>445.67600</td>\n",
              "    </tr>\n",
              "    <tr>\n",
              "      <th>97</th>\n",
              "      <td>NIGERIA</td>\n",
              "      <td>1</td>\n",
              "      <td>4.38</td>\n",
              "      <td>12.045455</td>\n",
              "      <td>4.890909</td>\n",
              "      <td>39.463636</td>\n",
              "      <td>26.681818</td>\n",
              "      <td>26759.82036</td>\n",
              "    </tr>\n",
              "    <tr>\n",
              "      <th>118</th>\n",
              "      <td>SEYCHELLES</td>\n",
              "      <td>3</td>\n",
              "      <td>1.20</td>\n",
              "      <td>3.500000</td>\n",
              "      <td>8.000000</td>\n",
              "      <td>7.800000</td>\n",
              "      <td>4.300000</td>\n",
              "      <td>8.10650</td>\n",
              "    </tr>\n",
              "    <tr>\n",
              "      <th>134</th>\n",
              "      <td>TONGA</td>\n",
              "      <td>2</td>\n",
              "      <td>2.10</td>\n",
              "      <td>3.250000</td>\n",
              "      <td>17.300000</td>\n",
              "      <td>5.150000</td>\n",
              "      <td>1.900000</td>\n",
              "      <td>13.90050</td>\n",
              "    </tr>\n",
              "  </tbody>\n",
              "</table>\n",
              "</div>\n",
              "      <button class=\"colab-df-convert\" onclick=\"convertToInteractive('df-524cded3-30a2-463e-8510-c3b9bff5a6b7')\"\n",
              "              title=\"Convert this dataframe to an interactive table.\"\n",
              "              style=\"display:none;\">\n",
              "        \n",
              "  <svg xmlns=\"http://www.w3.org/2000/svg\" height=\"24px\"viewBox=\"0 0 24 24\"\n",
              "       width=\"24px\">\n",
              "    <path d=\"M0 0h24v24H0V0z\" fill=\"none\"/>\n",
              "    <path d=\"M18.56 5.44l.94 2.06.94-2.06 2.06-.94-2.06-.94-.94-2.06-.94 2.06-2.06.94zm-11 1L8.5 8.5l.94-2.06 2.06-.94-2.06-.94L8.5 2.5l-.94 2.06-2.06.94zm10 10l.94 2.06.94-2.06 2.06-.94-2.06-.94-.94-2.06-.94 2.06-2.06.94z\"/><path d=\"M17.41 7.96l-1.37-1.37c-.4-.4-.92-.59-1.43-.59-.52 0-1.04.2-1.43.59L10.3 9.45l-7.72 7.72c-.78.78-.78 2.05 0 2.83L4 21.41c.39.39.9.59 1.41.59.51 0 1.02-.2 1.41-.59l7.78-7.78 2.81-2.81c.8-.78.8-2.07 0-2.86zM5.41 20L4 18.59l7.72-7.72 1.47 1.35L5.41 20z\"/>\n",
              "  </svg>\n",
              "      </button>\n",
              "      \n",
              "  <style>\n",
              "    .colab-df-container {\n",
              "      display:flex;\n",
              "      flex-wrap:wrap;\n",
              "      gap: 12px;\n",
              "    }\n",
              "\n",
              "    .colab-df-convert {\n",
              "      background-color: #E8F0FE;\n",
              "      border: none;\n",
              "      border-radius: 50%;\n",
              "      cursor: pointer;\n",
              "      display: none;\n",
              "      fill: #1967D2;\n",
              "      height: 32px;\n",
              "      padding: 0 0 0 0;\n",
              "      width: 32px;\n",
              "    }\n",
              "\n",
              "    .colab-df-convert:hover {\n",
              "      background-color: #E2EBFA;\n",
              "      box-shadow: 0px 1px 2px rgba(60, 64, 67, 0.3), 0px 1px 3px 1px rgba(60, 64, 67, 0.15);\n",
              "      fill: #174EA6;\n",
              "    }\n",
              "\n",
              "    [theme=dark] .colab-df-convert {\n",
              "      background-color: #3B4455;\n",
              "      fill: #D2E3FC;\n",
              "    }\n",
              "\n",
              "    [theme=dark] .colab-df-convert:hover {\n",
              "      background-color: #434B5C;\n",
              "      box-shadow: 0px 1px 3px 1px rgba(0, 0, 0, 0.15);\n",
              "      filter: drop-shadow(0px 1px 2px rgba(0, 0, 0, 0.3));\n",
              "      fill: #FFFFFF;\n",
              "    }\n",
              "  </style>\n",
              "\n",
              "      <script>\n",
              "        const buttonEl =\n",
              "          document.querySelector('#df-524cded3-30a2-463e-8510-c3b9bff5a6b7 button.colab-df-convert');\n",
              "        buttonEl.style.display =\n",
              "          google.colab.kernel.accessAllowed ? 'block' : 'none';\n",
              "\n",
              "        async function convertToInteractive(key) {\n",
              "          const element = document.querySelector('#df-524cded3-30a2-463e-8510-c3b9bff5a6b7');\n",
              "          const dataTable =\n",
              "            await google.colab.kernel.invokeFunction('convertToInteractive',\n",
              "                                                     [key], {});\n",
              "          if (!dataTable) return;\n",
              "\n",
              "          const docLinkHtml = 'Like what you see? Visit the ' +\n",
              "            '<a target=\"_blank\" href=https://colab.research.google.com/notebooks/data_table.ipynb>data table notebook</a>'\n",
              "            + ' to learn more about interactive tables.';\n",
              "          element.innerHTML = '';\n",
              "          dataTable['output_type'] = 'display_data';\n",
              "          await google.colab.output.renderOutput(dataTable, element);\n",
              "          const docLink = document.createElement('div');\n",
              "          docLink.innerHTML = docLinkHtml;\n",
              "          element.appendChild(docLink);\n",
              "        }\n",
              "      </script>\n",
              "    </div>\n",
              "  </div>\n",
              "  "
            ]
          },
          "metadata": {},
          "execution_count": 7
        }
      ],
      "source": [
        "dt.sample(5)"
      ]
    },
    {
      "cell_type": "code",
      "execution_count": 8,
      "id": "cf0218c6-8cbd-49d3-8a80-eca29e2125f1",
      "metadata": {
        "id": "cf0218c6-8cbd-49d3-8a80-eca29e2125f1",
        "outputId": "f616947b-2dca-4025-c88b-dfad62aa7220",
        "colab": {
          "base_uri": "https://localhost:8080/",
          "height": 399
        }
      },
      "outputs": [
        {
          "output_type": "execute_result",
          "data": {
            "text/plain": [
              "       IncomeClassification  Severe Wasting     Wasting  Overweight  \\\n",
              "count            152.000000      140.000000  150.000000  149.000000   \n",
              "mean               1.427632        2.168650    6.599257    7.201638   \n",
              "std                0.967019        1.708939    4.481723    4.649144   \n",
              "min                0.000000        0.000000    0.000000    0.962500   \n",
              "25%                1.000000        0.900000    3.262500    3.850000   \n",
              "50%                1.000000        1.872500    5.710714    6.300000   \n",
              "75%                2.000000        2.822727    8.740476    9.080000   \n",
              "max                3.000000       11.400000   23.650000   26.500000   \n",
              "\n",
              "         Stunting  Underweight  U5 Population ('000s)  \n",
              "count  151.000000   150.000000             152.000000  \n",
              "mean    25.814728    13.503047            4042.927052  \n",
              "std     14.686807    10.895839           13164.191928  \n",
              "min      1.000000     0.100000               1.000000  \n",
              "25%     13.485000     4.305000             241.765813  \n",
              "50%     24.160000    10.380000             981.233486  \n",
              "75%     36.564935    19.496875            3002.433080  \n",
              "max     57.600000    46.266667          123014.491000  "
            ],
            "text/html": [
              "\n",
              "  <div id=\"df-adb86dc8-131d-4eca-a9cf-cb6e489c1274\">\n",
              "    <div class=\"colab-df-container\">\n",
              "      <div>\n",
              "<style scoped>\n",
              "    .dataframe tbody tr th:only-of-type {\n",
              "        vertical-align: middle;\n",
              "    }\n",
              "\n",
              "    .dataframe tbody tr th {\n",
              "        vertical-align: top;\n",
              "    }\n",
              "\n",
              "    .dataframe thead th {\n",
              "        text-align: right;\n",
              "    }\n",
              "</style>\n",
              "<table border=\"1\" class=\"dataframe\">\n",
              "  <thead>\n",
              "    <tr style=\"text-align: right;\">\n",
              "      <th></th>\n",
              "      <th>IncomeClassification</th>\n",
              "      <th>Severe Wasting</th>\n",
              "      <th>Wasting</th>\n",
              "      <th>Overweight</th>\n",
              "      <th>Stunting</th>\n",
              "      <th>Underweight</th>\n",
              "      <th>U5 Population ('000s)</th>\n",
              "    </tr>\n",
              "  </thead>\n",
              "  <tbody>\n",
              "    <tr>\n",
              "      <th>count</th>\n",
              "      <td>152.000000</td>\n",
              "      <td>140.000000</td>\n",
              "      <td>150.000000</td>\n",
              "      <td>149.000000</td>\n",
              "      <td>151.000000</td>\n",
              "      <td>150.000000</td>\n",
              "      <td>152.000000</td>\n",
              "    </tr>\n",
              "    <tr>\n",
              "      <th>mean</th>\n",
              "      <td>1.427632</td>\n",
              "      <td>2.168650</td>\n",
              "      <td>6.599257</td>\n",
              "      <td>7.201638</td>\n",
              "      <td>25.814728</td>\n",
              "      <td>13.503047</td>\n",
              "      <td>4042.927052</td>\n",
              "    </tr>\n",
              "    <tr>\n",
              "      <th>std</th>\n",
              "      <td>0.967019</td>\n",
              "      <td>1.708939</td>\n",
              "      <td>4.481723</td>\n",
              "      <td>4.649144</td>\n",
              "      <td>14.686807</td>\n",
              "      <td>10.895839</td>\n",
              "      <td>13164.191928</td>\n",
              "    </tr>\n",
              "    <tr>\n",
              "      <th>min</th>\n",
              "      <td>0.000000</td>\n",
              "      <td>0.000000</td>\n",
              "      <td>0.000000</td>\n",
              "      <td>0.962500</td>\n",
              "      <td>1.000000</td>\n",
              "      <td>0.100000</td>\n",
              "      <td>1.000000</td>\n",
              "    </tr>\n",
              "    <tr>\n",
              "      <th>25%</th>\n",
              "      <td>1.000000</td>\n",
              "      <td>0.900000</td>\n",
              "      <td>3.262500</td>\n",
              "      <td>3.850000</td>\n",
              "      <td>13.485000</td>\n",
              "      <td>4.305000</td>\n",
              "      <td>241.765813</td>\n",
              "    </tr>\n",
              "    <tr>\n",
              "      <th>50%</th>\n",
              "      <td>1.000000</td>\n",
              "      <td>1.872500</td>\n",
              "      <td>5.710714</td>\n",
              "      <td>6.300000</td>\n",
              "      <td>24.160000</td>\n",
              "      <td>10.380000</td>\n",
              "      <td>981.233486</td>\n",
              "    </tr>\n",
              "    <tr>\n",
              "      <th>75%</th>\n",
              "      <td>2.000000</td>\n",
              "      <td>2.822727</td>\n",
              "      <td>8.740476</td>\n",
              "      <td>9.080000</td>\n",
              "      <td>36.564935</td>\n",
              "      <td>19.496875</td>\n",
              "      <td>3002.433080</td>\n",
              "    </tr>\n",
              "    <tr>\n",
              "      <th>max</th>\n",
              "      <td>3.000000</td>\n",
              "      <td>11.400000</td>\n",
              "      <td>23.650000</td>\n",
              "      <td>26.500000</td>\n",
              "      <td>57.600000</td>\n",
              "      <td>46.266667</td>\n",
              "      <td>123014.491000</td>\n",
              "    </tr>\n",
              "  </tbody>\n",
              "</table>\n",
              "</div>\n",
              "      <button class=\"colab-df-convert\" onclick=\"convertToInteractive('df-adb86dc8-131d-4eca-a9cf-cb6e489c1274')\"\n",
              "              title=\"Convert this dataframe to an interactive table.\"\n",
              "              style=\"display:none;\">\n",
              "        \n",
              "  <svg xmlns=\"http://www.w3.org/2000/svg\" height=\"24px\"viewBox=\"0 0 24 24\"\n",
              "       width=\"24px\">\n",
              "    <path d=\"M0 0h24v24H0V0z\" fill=\"none\"/>\n",
              "    <path d=\"M18.56 5.44l.94 2.06.94-2.06 2.06-.94-2.06-.94-.94-2.06-.94 2.06-2.06.94zm-11 1L8.5 8.5l.94-2.06 2.06-.94-2.06-.94L8.5 2.5l-.94 2.06-2.06.94zm10 10l.94 2.06.94-2.06 2.06-.94-2.06-.94-.94-2.06-.94 2.06-2.06.94z\"/><path d=\"M17.41 7.96l-1.37-1.37c-.4-.4-.92-.59-1.43-.59-.52 0-1.04.2-1.43.59L10.3 9.45l-7.72 7.72c-.78.78-.78 2.05 0 2.83L4 21.41c.39.39.9.59 1.41.59.51 0 1.02-.2 1.41-.59l7.78-7.78 2.81-2.81c.8-.78.8-2.07 0-2.86zM5.41 20L4 18.59l7.72-7.72 1.47 1.35L5.41 20z\"/>\n",
              "  </svg>\n",
              "      </button>\n",
              "      \n",
              "  <style>\n",
              "    .colab-df-container {\n",
              "      display:flex;\n",
              "      flex-wrap:wrap;\n",
              "      gap: 12px;\n",
              "    }\n",
              "\n",
              "    .colab-df-convert {\n",
              "      background-color: #E8F0FE;\n",
              "      border: none;\n",
              "      border-radius: 50%;\n",
              "      cursor: pointer;\n",
              "      display: none;\n",
              "      fill: #1967D2;\n",
              "      height: 32px;\n",
              "      padding: 0 0 0 0;\n",
              "      width: 32px;\n",
              "    }\n",
              "\n",
              "    .colab-df-convert:hover {\n",
              "      background-color: #E2EBFA;\n",
              "      box-shadow: 0px 1px 2px rgba(60, 64, 67, 0.3), 0px 1px 3px 1px rgba(60, 64, 67, 0.15);\n",
              "      fill: #174EA6;\n",
              "    }\n",
              "\n",
              "    [theme=dark] .colab-df-convert {\n",
              "      background-color: #3B4455;\n",
              "      fill: #D2E3FC;\n",
              "    }\n",
              "\n",
              "    [theme=dark] .colab-df-convert:hover {\n",
              "      background-color: #434B5C;\n",
              "      box-shadow: 0px 1px 3px 1px rgba(0, 0, 0, 0.15);\n",
              "      filter: drop-shadow(0px 1px 2px rgba(0, 0, 0, 0.3));\n",
              "      fill: #FFFFFF;\n",
              "    }\n",
              "  </style>\n",
              "\n",
              "      <script>\n",
              "        const buttonEl =\n",
              "          document.querySelector('#df-adb86dc8-131d-4eca-a9cf-cb6e489c1274 button.colab-df-convert');\n",
              "        buttonEl.style.display =\n",
              "          google.colab.kernel.accessAllowed ? 'block' : 'none';\n",
              "\n",
              "        async function convertToInteractive(key) {\n",
              "          const element = document.querySelector('#df-adb86dc8-131d-4eca-a9cf-cb6e489c1274');\n",
              "          const dataTable =\n",
              "            await google.colab.kernel.invokeFunction('convertToInteractive',\n",
              "                                                     [key], {});\n",
              "          if (!dataTable) return;\n",
              "\n",
              "          const docLinkHtml = 'Like what you see? Visit the ' +\n",
              "            '<a target=\"_blank\" href=https://colab.research.google.com/notebooks/data_table.ipynb>data table notebook</a>'\n",
              "            + ' to learn more about interactive tables.';\n",
              "          element.innerHTML = '';\n",
              "          dataTable['output_type'] = 'display_data';\n",
              "          await google.colab.output.renderOutput(dataTable, element);\n",
              "          const docLink = document.createElement('div');\n",
              "          docLink.innerHTML = docLinkHtml;\n",
              "          element.appendChild(docLink);\n",
              "        }\n",
              "      </script>\n",
              "    </div>\n",
              "  </div>\n",
              "  "
            ]
          },
          "metadata": {},
          "execution_count": 8
        }
      ],
      "source": [
        "dt.describe()"
      ]
    },
    {
      "cell_type": "code",
      "execution_count": 9,
      "id": "a869db7e-e5dc-49cb-afd6-f23a6869e5ef",
      "metadata": {
        "id": "a869db7e-e5dc-49cb-afd6-f23a6869e5ef",
        "outputId": "5fc344f9-cd89-4c25-d2bd-48188784999b",
        "colab": {
          "base_uri": "https://localhost:8080/"
        }
      },
      "outputs": [
        {
          "output_type": "stream",
          "name": "stdout",
          "text": [
            "<class 'pandas.core.frame.DataFrame'>\n",
            "RangeIndex: 152 entries, 0 to 151\n",
            "Data columns (total 8 columns):\n",
            " #   Column                 Non-Null Count  Dtype  \n",
            "---  ------                 --------------  -----  \n",
            " 0   Country                152 non-null    object \n",
            " 1   IncomeClassification   152 non-null    int64  \n",
            " 2   Severe Wasting         140 non-null    float64\n",
            " 3   Wasting                150 non-null    float64\n",
            " 4   Overweight             149 non-null    float64\n",
            " 5   Stunting               151 non-null    float64\n",
            " 6   Underweight            150 non-null    float64\n",
            " 7   U5 Population ('000s)  152 non-null    float64\n",
            "dtypes: float64(6), int64(1), object(1)\n",
            "memory usage: 9.6+ KB\n"
          ]
        }
      ],
      "source": [
        "dt.info()"
      ]
    },
    {
      "cell_type": "code",
      "execution_count": 10,
      "id": "1ee61c5a-2c46-4b9b-b829-cdfbe427d553",
      "metadata": {
        "id": "1ee61c5a-2c46-4b9b-b829-cdfbe427d553",
        "outputId": "1b75f52d-4bd5-4921-e97d-dcb84590ad78",
        "colab": {
          "base_uri": "https://localhost:8080/"
        }
      },
      "outputs": [
        {
          "output_type": "execute_result",
          "data": {
            "text/plain": [
              "count    150.000000\n",
              "mean      13.503047\n",
              "std       10.895839\n",
              "min        0.100000\n",
              "25%        4.305000\n",
              "50%       10.380000\n",
              "75%       19.496875\n",
              "max       46.266667\n",
              "Name: Underweight, dtype: float64"
            ]
          },
          "metadata": {},
          "execution_count": 10
        }
      ],
      "source": [
        "dt[\"Underweight\"].describe()"
      ]
    },
    {
      "cell_type": "code",
      "execution_count": 11,
      "id": "bf754f01-898e-4ddb-a84d-ce23224a43ff",
      "metadata": {
        "id": "bf754f01-898e-4ddb-a84d-ce23224a43ff",
        "outputId": "5daca4a8-1814-4df1-9122-df4ccc990ef0",
        "colab": {
          "base_uri": "https://localhost:8080/"
        }
      },
      "outputs": [
        {
          "output_type": "execute_result",
          "data": {
            "text/plain": [
              "array([30.375     ,  7.7       ,  7.34285714, 23.6       ,  2.6       ,\n",
              "        3.48      ,  0.1       ,  8.08333333,  6.95      , 46.26666667,\n",
              "        3.5       ,  1.3       ,  5.3       , 20.125     , 17.8       ,\n",
              "        7.47272727,  2.46666667, 12.66666667,  3.925     ,  9.6       ,\n",
              "        2.        , 25.07692308, 32.25      , 12.75      , 31.98333333,\n",
              "       14.68571429,         nan, 23.36666667, 31.4       ,  0.74666667,\n",
              "        7.9       ,  5.85714286, 19.575     , 13.1       ,  2.2375    ,\n",
              "       17.67142857,  3.4       ,  1.5       , 23.12857143, 26.84      ,\n",
              "       22.625     ,  5.1625    ,  8.31666667,  8.64      ,  7.76666667,\n",
              "       11.425     , 37.55      ,  6.82      , 31.05714286,  6.1       ,\n",
              "       16.3       ,  2.06666667,  0.8       , 17.24444444, 19.05714286,\n",
              "       19.2625    , 18.05      , 11.38333333, 16.9       , 13.78571429,\n",
              "       42.97777778, 24.3625    ,  8.        ,  8.5       ,  3.955     ,\n",
              "        3.76      , 16.75      , 13.2       ,  2.35333333,  4.36666667,\n",
              "       30.87142857,  3.85      , 14.08571429, 17.74      ,  7.16666667,\n",
              "       34.31428571, 17.40666667, 18.14      , 30.32      , 26.67142857,\n",
              "       11.9       , 24.86666667, 17.05      ,  6.525     ,  5.91111111,\n",
              "        1.6       ,  6.91666667, 20.75714286, 29.75555556,  4.8       ,\n",
              "       36.95      ,  7.03333333, 38.26363636, 26.68181818,  1.66666667,\n",
              "       11.91666667, 33.7375    ,  4.73333333, 22.9       ,  2.525     ,\n",
              "        4.32      , 24.14545455,  2.7       ,  3.88      , 15.88888889,\n",
              "        2.8       ,  2.45      , 11.26      ,  9.4       ,  1.73333333,\n",
              "        4.3       , 20.39      ,  3.3       , 14.66666667, 26.03333333,\n",
              "        9.71428571, 30.1       , 26.        ,  2.92      , 29.93333333,\n",
              "        8.13333333, 10.05      , 10.93333333, 12.46666667, 42.8       ,\n",
              "       18.93333333,  1.9       ,  5.13333333,  3.65      ,  4.84285714,\n",
              "        7.63333333, 15.53333333,  4.1       , 17.72727273,  0.88      ,\n",
              "        5.12857143,  7.        , 11.26666667,  4.24285714, 22.91818182,\n",
              "       37.78571429, 17.88571429, 10.71      ])"
            ]
          },
          "metadata": {},
          "execution_count": 11
        }
      ],
      "source": [
        "dt[\"Underweight\"].unique()"
      ]
    },
    {
      "cell_type": "code",
      "execution_count": 12,
      "id": "c7f71a45-1ffd-455f-abd8-dd5ee2f62c54",
      "metadata": {
        "id": "c7f71a45-1ffd-455f-abd8-dd5ee2f62c54",
        "outputId": "08685588-3672-4c9a-df25-6111cfab0279",
        "colab": {
          "base_uri": "https://localhost:8080/"
        }
      },
      "outputs": [
        {
          "output_type": "stream",
          "name": "stdout",
          "text": [
            "Underweight              1.000000\n",
            "Stunting                 0.864643\n",
            "Wasting                  0.823864\n",
            "IncomeClassification     0.658230\n",
            "Severe Wasting           0.647534\n",
            "Overweight               0.525527\n",
            "U5 Population ('000s)    0.234327\n",
            "Name: Underweight, dtype: float64\n"
          ]
        }
      ],
      "source": [
        "print(dt.corr()[\"Underweight\"].abs().sort_values(ascending=False))"
      ]
    },
    {
      "cell_type": "markdown",
      "id": "730b8177-7db2-45e9-8ebc-2379f05c3ccc",
      "metadata": {
        "id": "730b8177-7db2-45e9-8ebc-2379f05c3ccc"
      },
      "source": [
        "## EDA(Exploratory Dataset Analysis)"
      ]
    },
    {
      "cell_type": "code",
      "execution_count": 13,
      "id": "1c501e21-8037-4464-933b-cfe22ebf9a04",
      "metadata": {
        "id": "1c501e21-8037-4464-933b-cfe22ebf9a04",
        "outputId": "4fd65b6e-68ab-40fe-d70d-fcf493f1cb85",
        "colab": {
          "base_uri": "https://localhost:8080/",
          "height": 371
        }
      },
      "outputs": [
        {
          "output_type": "stream",
          "name": "stdout",
          "text": [
            "2    54\n",
            "1    46\n",
            "0    31\n",
            "3    21\n",
            "Name: IncomeClassification, dtype: int64\n"
          ]
        },
        {
          "output_type": "display_data",
          "data": {
            "text/plain": [
              "<Figure size 432x288 with 1 Axes>"
            ],
            "image/png": "[encoded data removed]"
          },
          "metadata": {
            "needs_background": "light"
          }
        }
      ],
      "source": [
        "y = dt[\"IncomeClassification\"]\n",
        "\n",
        "sns.countplot(y)\n",
        "\n",
        "target_temp = dt.IncomeClassification.value_counts()\n",
        "\n",
        "print(target_temp)"
      ]
    },
    {
      "cell_type": "code",
      "execution_count": 14,
      "id": "92c7e0a5-c695-435b-b329-767b8f9288cb",
      "metadata": {
        "id": "92c7e0a5-c695-435b-b329-767b8f9288cb",
        "outputId": "4b53c4e1-4822-48a8-f2ab-d707ebee46d3",
        "colab": {
          "base_uri": "https://localhost:8080/"
        }
      },
      "outputs": [
        {
          "output_type": "stream",
          "name": "stdout",
          "text": [
            "Percentage of very low income countries: 20.3947\n",
            "Percentage of low income countries: 30.2632\n",
            "Percentage of medium income countries: 35.5263\n",
            "Percentage of high income countries: 13.8158\n"
          ]
        }
      ],
      "source": [
        "print(\"Percentage of very low income countries: \"+str(round(target_temp[0]*100/152,4)))\n",
        "print(\"Percentage of low income countries: \"+str(round(target_temp[1]*100/152,4)))\n",
        "print(\"Percentage of medium income countries: \"+str(round(target_temp[2]*100/152,4)))\n",
        "print(\"Percentage of high income countries: \"+str(round(target_temp[3]*100/152,4)))"
      ]
    },
    {
      "cell_type": "markdown",
      "id": "0f3f204c-ab6f-4eac-a071-95b1302a1052",
      "metadata": {
        "id": "0f3f204c-ab6f-4eac-a071-95b1302a1052"
      },
      "source": [
        "## Underweight relation to income classification to understand"
      ]
    },
    {
      "cell_type": "code",
      "execution_count": 15,
      "id": "ef3ecb54-dfed-4c54-ad19-799eb887df57",
      "metadata": {
        "id": "ef3ecb54-dfed-4c54-ad19-799eb887df57",
        "outputId": "7263e7e0-ad54-42e4-a678-153bc8136c66",
        "colab": {
          "base_uri": "https://localhost:8080/",
          "height": 297
        }
      },
      "outputs": [
        {
          "output_type": "execute_result",
          "data": {
            "text/plain": [
              "<BarContainer object of 152 artists>"
            ]
          },
          "metadata": {},
          "execution_count": 15
        },
        {
          "output_type": "display_data",
          "data": {
            "text/plain": [
              "<Figure size 432x288 with 1 Axes>"
            ],
            "image/png": "[encoded data removed]"
          },
          "metadata": {
            "needs_background": "light"
          }
        }
      ],
      "source": [
        "import matplotlib.pyplot as plt\n",
        "x = dt['IncomeClassification']\n",
        "y = dt['Underweight']\n",
        "plt.xlabel(\"Income Classification\")\n",
        "plt.ylabel(\"Underweight\")\n",
        "plt.bar(x,y)"
      ]
    },
    {
      "cell_type": "markdown",
      "id": "14a075ce-e344-452d-91ca-3ef61fe3139b",
      "metadata": {
        "id": "14a075ce-e344-452d-91ca-3ef61fe3139b"
      },
      "source": [
        "We notice that the lower the income, the higher the underweights present"
      ]
    },
    {
      "cell_type": "code",
      "execution_count": 16,
      "id": "8eb74b8e-4eb6-4a0b-9e2e-1bd2d928a038",
      "metadata": {
        "id": "8eb74b8e-4eb6-4a0b-9e2e-1bd2d928a038",
        "outputId": "c570c3a8-d1bb-48c1-bbce-e0e984294ab5",
        "colab": {
          "base_uri": "https://localhost:8080/",
          "height": 297
        }
      },
      "outputs": [
        {
          "output_type": "execute_result",
          "data": {
            "text/plain": [
              "<AxesSubplot:xlabel='IncomeClassification', ylabel='Underweight'>"
            ]
          },
          "metadata": {},
          "execution_count": 16
        },
        {
          "output_type": "display_data",
          "data": {
            "text/plain": [
              "<Figure size 432x288 with 1 Axes>"
            ],
            "image/png": "[encoded data removed]"
          },
          "metadata": {
            "needs_background": "light"
          }
        }
      ],
      "source": [
        "sns.barplot(dt[\"IncomeClassification\"],y)"
      ]
    },
    {
      "cell_type": "markdown",
      "id": "f2b1222b-169e-4fd8-9ac7-a0a67dbceb7e",
      "metadata": {
        "id": "f2b1222b-169e-4fd8-9ac7-a0a67dbceb7e"
      },
      "source": [
        "The following barplot further reaffirms the findings, that the income classification is inversely proportional to the underweights present in the country"
      ]
    },
    {
      "cell_type": "markdown",
      "id": "18b2e74d-59ea-4014-ad64-2514ed0bce53",
      "metadata": {
        "id": "18b2e74d-59ea-4014-ad64-2514ed0bce53"
      },
      "source": [
        "### Analysing the Wasting feature"
      ]
    },
    {
      "cell_type": "code",
      "execution_count": 17,
      "id": "b88d3522-9807-4d11-b86d-3540c14a0a90",
      "metadata": {
        "id": "b88d3522-9807-4d11-b86d-3540c14a0a90",
        "outputId": "97f0340d-74f4-4bca-9b27-4072c6b59963",
        "colab": {
          "base_uri": "https://localhost:8080/",
          "height": 301
        }
      },
      "outputs": [
        {
          "output_type": "execute_result",
          "data": {
            "text/plain": [
              "<AxesSubplot:xlabel='IncomeClassification', ylabel='Wasting'>"
            ]
          },
          "metadata": {},
          "execution_count": 17
        },
        {
          "output_type": "display_data",
          "data": {
            "text/plain": [
              "<Figure size 432x288 with 1 Axes>"
            ],
            "image/png": "[encoded data removed]"
          },
          "metadata": {
            "needs_background": "light"
          }
        }
      ],
      "source": [
        "sns.barplot(dt[\"IncomeClassification\"],dt[\"Wasting\"])"
      ]
    },
    {
      "cell_type": "markdown",
      "id": "fb60633e-6c01-4c8e-9960-c7ac2c9a1f71",
      "metadata": {
        "id": "fb60633e-6c01-4c8e-9960-c7ac2c9a1f71"
      },
      "source": [
        "### We realize that income classification and the wasting ratre is inversely proportional too. This helps us understand the data further"
      ]
    },
    {
      "cell_type": "markdown",
      "id": "72f78645-3e8c-44a8-950d-b38c1f9f04dd",
      "metadata": {
        "id": "72f78645-3e8c-44a8-950d-b38c1f9f04dd"
      },
      "source": [
        "### Analysing the Stunting feature"
      ]
    },
    {
      "cell_type": "code",
      "execution_count": 18,
      "id": "5492a992-4d87-40b9-84f7-7abd9f769ca7",
      "metadata": {
        "id": "5492a992-4d87-40b9-84f7-7abd9f769ca7",
        "outputId": "547336fd-7d26-4389-8c1c-d50d89a7f630",
        "colab": {
          "base_uri": "https://localhost:8080/",
          "height": 297
        }
      },
      "outputs": [
        {
          "output_type": "execute_result",
          "data": {
            "text/plain": [
              "<AxesSubplot:xlabel='IncomeClassification', ylabel='Stunting'>"
            ]
          },
          "metadata": {},
          "execution_count": 18
        },
        {
          "output_type": "display_data",
          "data": {
            "text/plain": [
              "<Figure size 432x288 with 1 Axes>"
            ],
            "image/png": "[encoded data removed]"
          },
          "metadata": {
            "needs_background": "light"
          }
        }
      ],
      "source": [
        "sns.barplot(dt[\"IncomeClassification\"],dt[\"Stunting\"])"
      ]
    },
    {
      "cell_type": "markdown",
      "id": "80693ec4-4fe4-4875-8ace-b9722b8904b3",
      "metadata": {
        "id": "80693ec4-4fe4-4875-8ace-b9722b8904b3"
      },
      "source": [
        "We see that lower the income, higher the cases of stunting occuring. Stunting is the term used to define the stunt or lack of growth in an individual due to external features like bad diet or lack of food or resources for the body"
      ]
    },
    {
      "cell_type": "markdown",
      "id": "d6de437a-3a9a-452b-99b2-e630563c4066",
      "metadata": {
        "id": "d6de437a-3a9a-452b-99b2-e630563c4066"
      },
      "source": [
        "## Analysing the Overweight feature"
      ]
    },
    {
      "cell_type": "code",
      "execution_count": 19,
      "id": "8b5bd748-bc78-4a1f-bb79-d11df4145b0c",
      "metadata": {
        "id": "8b5bd748-bc78-4a1f-bb79-d11df4145b0c",
        "outputId": "d7f7e474-8c46-462c-a84b-08e128ad29ad",
        "colab": {
          "base_uri": "https://localhost:8080/",
          "height": 297
        }
      },
      "outputs": [
        {
          "output_type": "execute_result",
          "data": {
            "text/plain": [
              "<AxesSubplot:xlabel='IncomeClassification', ylabel='Overweight'>"
            ]
          },
          "metadata": {},
          "execution_count": 19
        },
        {
          "output_type": "display_data",
          "data": {
            "text/plain": [
              "<Figure size 432x288 with 1 Axes>"
            ],
            "image/png": "[encoded data removed]"
          },
          "metadata": {
            "needs_background": "light"
          }
        }
      ],
      "source": [
        "sns.barplot(dt[\"IncomeClassification\"],dt[\"Overweight\"])"
      ]
    },
    {
      "cell_type": "markdown",
      "id": "3f37a6f9-27ad-40c4-9e60-248c13d0f70d",
      "metadata": {
        "id": "3f37a6f9-27ad-40c4-9e60-248c13d0f70d"
      },
      "source": [
        "### We observe that income classification and overweights are directly proportional to each other as, the more money they have the more food they eat and become overweight and in turn eat junk food"
      ]
    },
    {
      "cell_type": "code",
      "execution_count": 20,
      "id": "9d2839e4-2910-4e88-bf7b-2ef8b2220458",
      "metadata": {
        "id": "9d2839e4-2910-4e88-bf7b-2ef8b2220458",
        "outputId": "3e13ee23-ba05-4652-e77d-858c1d687ff1",
        "colab": {
          "base_uri": "https://localhost:8080/",
          "height": 384
        }
      },
      "outputs": [
        {
          "output_type": "execute_result",
          "data": {
            "text/plain": [
              "<AxesSubplot:>"
            ]
          },
          "metadata": {},
          "execution_count": 20
        },
        {
          "output_type": "display_data",
          "data": {
            "text/plain": [
              "<Figure size 432x288 with 2 Axes>"
            ],
            "image/png": "[encoded data removed]"
          },
          "metadata": {
            "needs_background": "light"
          }
        }
      ],
      "source": [
        "sns.heatmap(dt.corr())"
      ]
    },
    {
      "cell_type": "markdown",
      "id": "af1c8397-e848-4db8-be60-5d6f3da227d5",
      "metadata": {
        "id": "af1c8397-e848-4db8-be60-5d6f3da227d5"
      },
      "source": [
        "# Creation of the model"
      ]
    },
    {
      "cell_type": "code",
      "source": [
        "dt.isnull().sum()"
      ],
      "metadata": {
        "colab": {
          "base_uri": "https://localhost:8080/"
        },
        "id": "2g3ppLYBIF6H",
        "outputId": "bcc66810-fbb4-4180-8579-1d201870a19a"
      },
      "id": "2g3ppLYBIF6H",
      "execution_count": 21,
      "outputs": [
        {
          "output_type": "execute_result",
          "data": {
            "text/plain": [
              "Country                   0\n",
              "IncomeClassification      0\n",
              "Severe Wasting           12\n",
              "Wasting                   2\n",
              "Overweight                3\n",
              "Stunting                  1\n",
              "Underweight               2\n",
              "U5 Population ('000s)     0\n",
              "dtype: int64"
            ]
          },
          "metadata": {},
          "execution_count": 21
        }
      ]
    },
    {
      "cell_type": "code",
      "source": [
        "dt = dt.fillna(value=0)"
      ],
      "metadata": {
        "id": "biX-tB4RIRvW"
      },
      "id": "biX-tB4RIRvW",
      "execution_count": 22,
      "outputs": []
    },
    {
      "cell_type": "code",
      "source": [
        "dt.isnull().sum()"
      ],
      "metadata": {
        "colab": {
          "base_uri": "https://localhost:8080/"
        },
        "id": "Unne69hnJNlY",
        "outputId": "864d5295-9c6c-49d4-951b-39d0b9e29625"
      },
      "id": "Unne69hnJNlY",
      "execution_count": 23,
      "outputs": [
        {
          "output_type": "execute_result",
          "data": {
            "text/plain": [
              "Country                  0\n",
              "IncomeClassification     0\n",
              "Severe Wasting           0\n",
              "Wasting                  0\n",
              "Overweight               0\n",
              "Stunting                 0\n",
              "Underweight              0\n",
              "U5 Population ('000s)    0\n",
              "dtype: int64"
            ]
          },
          "metadata": {},
          "execution_count": 23
        }
      ]
    },
    {
      "cell_type": "code",
      "source": [
        "from sklearn.model_selection import train_test_split\n",
        "\n",
        "predictors = dt.drop([\"IncomeClassification\",\"Country\"],axis=1)\n",
        "target = dt[\"IncomeClassification\"]\n",
        "\n",
        "X_train,X_test,Y_train,Y_test = train_test_split(predictors,target,test_size=0.2,random_state=0)"
      ],
      "metadata": {
        "id": "1umtOCvfMD3q"
      },
      "id": "1umtOCvfMD3q",
      "execution_count": 24,
      "outputs": []
    },
    {
      "cell_type": "code",
      "execution_count": 25,
      "id": "a14de643-b7a5-4477-99b5-93e1fbb874e4",
      "metadata": {
        "id": "a14de643-b7a5-4477-99b5-93e1fbb874e4",
        "outputId": "698f2d74-346d-4105-e9e5-48455376ccbb",
        "colab": {
          "base_uri": "https://localhost:8080/"
        }
      },
      "outputs": [
        {
          "output_type": "execute_result",
          "data": {
            "text/plain": [
              "(121, 6)"
            ]
          },
          "metadata": {},
          "execution_count": 25
        }
      ],
      "source": [
        "X_train.shape"
      ]
    },
    {
      "cell_type": "code",
      "execution_count": 26,
      "id": "72cd59a6-943f-453a-b61f-464918bf7b9c",
      "metadata": {
        "id": "72cd59a6-943f-453a-b61f-464918bf7b9c",
        "outputId": "86ccfd3f-7fc2-4d6c-c2ff-cf27a316bc9b",
        "colab": {
          "base_uri": "https://localhost:8080/"
        }
      },
      "outputs": [
        {
          "output_type": "execute_result",
          "data": {
            "text/plain": [
              "(31, 6)"
            ]
          },
          "metadata": {},
          "execution_count": 26
        }
      ],
      "source": [
        "X_test.shape"
      ]
    },
    {
      "cell_type": "code",
      "execution_count": 27,
      "id": "88ea84ec-c0a1-44b1-a84d-998ad145157a",
      "metadata": {
        "id": "88ea84ec-c0a1-44b1-a84d-998ad145157a",
        "outputId": "2ec2d761-268c-45b2-a799-6dfee148b171",
        "colab": {
          "base_uri": "https://localhost:8080/"
        }
      },
      "outputs": [
        {
          "output_type": "execute_result",
          "data": {
            "text/plain": [
              "(121,)"
            ]
          },
          "metadata": {},
          "execution_count": 27
        }
      ],
      "source": [
        "Y_train.shape"
      ]
    },
    {
      "cell_type": "code",
      "execution_count": 28,
      "id": "73f2425b-b70e-445f-b7d3-f701c06525b5",
      "metadata": {
        "id": "73f2425b-b70e-445f-b7d3-f701c06525b5",
        "outputId": "3289f28b-ec6a-4c86-81b3-01b000559803",
        "colab": {
          "base_uri": "https://localhost:8080/"
        }
      },
      "outputs": [
        {
          "output_type": "execute_result",
          "data": {
            "text/plain": [
              "(31,)"
            ]
          },
          "metadata": {},
          "execution_count": 28
        }
      ],
      "source": [
        "Y_test.shape"
      ]
    },
    {
      "cell_type": "code",
      "execution_count": 29,
      "id": "23bf8b76-9fdd-432f-b507-0e27ed75200e",
      "metadata": {
        "id": "23bf8b76-9fdd-432f-b507-0e27ed75200e"
      },
      "outputs": [],
      "source": [
        "from sklearn.metrics import accuracy_score"
      ]
    },
    {
      "cell_type": "markdown",
      "id": "10b165cf-2c8c-4d9a-8513-38bb982ec7aa",
      "metadata": {
        "id": "10b165cf-2c8c-4d9a-8513-38bb982ec7aa"
      },
      "source": [
        "# Logistic Regression"
      ]
    },
    {
      "cell_type": "code",
      "execution_count": 32,
      "id": "60eb7295-4ae1-49ab-be85-c8e688bd6549",
      "metadata": {
        "id": "60eb7295-4ae1-49ab-be85-c8e688bd6549",
        "outputId": "bdd4184f-50fa-49e6-c629-de51a4a1513e",
        "colab": {
          "base_uri": "https://localhost:8080/"
        }
      },
      "outputs": [
        {
          "output_type": "stream",
          "name": "stdout",
          "text": [
            "Looking in indexes: https://pypi.org/simple, https://us-python.pkg.dev/colab-wheels/public/simple/\n",
            "Requirement already satisfied: scikit-learn-intelex in /usr/local/lib/python3.9/dist-packages (2023.0.1)\n",
            "Requirement already satisfied: scikit-learn>=0.22 in /usr/local/lib/python3.9/dist-packages (from scikit-learn-intelex) (1.2.2)\n",
            "Requirement already satisfied: daal4py==2023.0.1 in /usr/local/lib/python3.9/dist-packages (from scikit-learn-intelex) (2023.0.1)\n",
            "Requirement already satisfied: numpy>=1.15 in /usr/local/lib/python3.9/dist-packages (from daal4py==2023.0.1->scikit-learn-intelex) (1.22.4)\n",
            "Requirement already satisfied: daal==2023.0.1 in /usr/local/lib/python3.9/dist-packages (from daal4py==2023.0.1->scikit-learn-intelex) (2023.0.1)\n",
            "Requirement already satisfied: tbb==2021.* in /usr/local/lib/python3.9/dist-packages (from daal==2023.0.1->daal4py==2023.0.1->scikit-learn-intelex) (2021.8.0)\n",
            "Requirement already satisfied: scipy>=1.3.2 in /usr/local/lib/python3.9/dist-packages (from scikit-learn>=0.22->scikit-learn-intelex) (1.10.1)\n",
            "Requirement already satisfied: joblib>=1.1.1 in /usr/local/lib/python3.9/dist-packages (from scikit-learn>=0.22->scikit-learn-intelex) (1.1.1)\n",
            "Requirement already satisfied: threadpoolctl>=2.0.0 in /usr/local/lib/python3.9/dist-packages (from scikit-learn>=0.22->scikit-learn-intelex) (3.1.0)\n"
          ]
        },
        {
          "output_type": "stream",
          "name": "stderr",
          "text": [
            "Intel(R) Extension for Scikit-learn* enabled (https://github.com/intel/scikit-learn-intelex)\n"
          ]
        }
      ],
      "source": [
        "from sklearn.linear_model import LogisticRegression\n",
        "!pip install scikit-learn-intelex\n",
        "from sklearnex import patch_sklearn\n",
        "patch_sklearn()\n",
        "\n",
        "\n",
        "lr = LogisticRegression()\n",
        "\n",
        "lr.fit(X_train,Y_train)\n",
        "\n",
        "Y_pred_lr = lr.predict(X_test)"
      ]
    },
    {
      "cell_type": "code",
      "execution_count": 33,
      "id": "2101b5f4-561c-41a8-bcec-684ea3d10f6b",
      "metadata": {
        "id": "2101b5f4-561c-41a8-bcec-684ea3d10f6b",
        "outputId": "4d25a324-1365-4266-e759-780d0760ab1d",
        "colab": {
          "base_uri": "https://localhost:8080/"
        }
      },
      "outputs": [
        {
          "output_type": "execute_result",
          "data": {
            "text/plain": [
              "(31,)"
            ]
          },
          "metadata": {},
          "execution_count": 33
        }
      ],
      "source": [
        "Y_pred_lr.shape"
      ]
    },
    {
      "cell_type": "code",
      "execution_count": 34,
      "id": "342c3118-777d-411e-a4a3-b14f1a6d17e3",
      "metadata": {
        "id": "342c3118-777d-411e-a4a3-b14f1a6d17e3",
        "outputId": "bd5a0f0f-8fbb-4e88-87f3-48ff46ba3d4a",
        "colab": {
          "base_uri": "https://localhost:8080/"
        }
      },
      "outputs": [
        {
          "output_type": "stream",
          "name": "stdout",
          "text": [
            "The accuracy score of Logistic Regression model is: 45.16 %\n"
          ]
        }
      ],
      "source": [
        "score_lr = round(accuracy_score(Y_pred_lr,Y_test)*100,2)\n",
        "\n",
        "print(\"The accuracy score of Logistic Regression model is: \"+str(score_lr)+\" %\")"
      ]
    },
    {
      "cell_type": "markdown",
      "id": "ce0a8138-ffea-476c-bd64-c7e17ab222d7",
      "metadata": {
        "id": "ce0a8138-ffea-476c-bd64-c7e17ab222d7"
      },
      "source": [
        "# Support Vector Machine (SVM)"
      ]
    },
    {
      "cell_type": "code",
      "execution_count": 35,
      "id": "65c8fca2-66b7-4dd8-b1c1-112f05bc9c31",
      "metadata": {
        "id": "65c8fca2-66b7-4dd8-b1c1-112f05bc9c31",
        "outputId": "1d09c49c-5bdf-4538-beff-4f0483bfddb7",
        "colab": {
          "base_uri": "https://localhost:8080/"
        }
      },
      "outputs": [
        {
          "output_type": "stream",
          "name": "stderr",
          "text": [
            "Intel(R) Extension for Scikit-learn* enabled (https://github.com/intel/scikit-learn-intelex)\n"
          ]
        }
      ],
      "source": [
        "from sklearnex.svm import SVC\n",
        "# from sklearnex import patch_sklearn\n",
        "patch_sklearn()\n",
        "\n",
        "\n",
        "\n",
        "sv = SVC(kernel='linear')\n",
        "\n",
        "sv.fit(X_train, Y_train)\n",
        "\n",
        "Y_pred_svm = sv.predict(X_test)"
      ]
    },
    {
      "cell_type": "code",
      "execution_count": 36,
      "id": "6e5acb4f-8ae5-4bdb-afba-d4bb2a65760f",
      "metadata": {
        "id": "6e5acb4f-8ae5-4bdb-afba-d4bb2a65760f",
        "outputId": "7d1ae0f6-547d-4392-cc44-d7cf4ecfbc74",
        "colab": {
          "base_uri": "https://localhost:8080/"
        }
      },
      "outputs": [
        {
          "output_type": "execute_result",
          "data": {
            "text/plain": [
              "(31,)"
            ]
          },
          "metadata": {},
          "execution_count": 36
        }
      ],
      "source": [
        "Y_pred_svm.shape"
      ]
    },
    {
      "cell_type": "code",
      "execution_count": 37,
      "id": "6c9f6332-f82f-434f-b224-1f150b5b6675",
      "metadata": {
        "id": "6c9f6332-f82f-434f-b224-1f150b5b6675",
        "outputId": "9866aa4c-1cfd-492d-fa12-dfac1de92e71",
        "colab": {
          "base_uri": "https://localhost:8080/"
        }
      },
      "outputs": [
        {
          "output_type": "stream",
          "name": "stdout",
          "text": [
            "The accuracy score from using Linear SVM is: 48.39 %\n"
          ]
        }
      ],
      "source": [
        "score_svm = round(accuracy_score(Y_pred_svm,Y_test)*100,2)\n",
        "\n",
        "print(\"The accuracy score from using Linear SVM is: \"+str(score_svm)+\" %\")"
      ]
    },
    {
      "cell_type": "markdown",
      "id": "2fbc5ff6-c522-48b4-b045-3d3976151cd8",
      "metadata": {
        "id": "2fbc5ff6-c522-48b4-b045-3d3976151cd8"
      },
      "source": [
        "# K Nearest Neighbors"
      ]
    },
    {
      "cell_type": "code",
      "execution_count": 38,
      "id": "df8ce3fd-62dd-47f6-bb8b-c393b09e8d1a",
      "metadata": {
        "id": "df8ce3fd-62dd-47f6-bb8b-c393b09e8d1a",
        "outputId": "db5b57df-b31f-42ff-d215-76a712d868f5",
        "colab": {
          "base_uri": "https://localhost:8080/"
        }
      },
      "outputs": [
        {
          "output_type": "stream",
          "name": "stderr",
          "text": [
            "Intel(R) Extension for Scikit-learn* enabled (https://github.com/intel/scikit-learn-intelex)\n"
          ]
        }
      ],
      "source": [
        "from sklearnex.neighbors import KNeighborsClassifier\n",
        "from sklearnex import patch_sklearn\n",
        "patch_sklearn()\n",
        "\n",
        "knn = KNeighborsClassifier(n_neighbors=7)\n",
        "knn.fit(X_train,Y_train)\n",
        "Y_pred_knn=knn.predict(X_test)"
      ]
    },
    {
      "cell_type": "code",
      "execution_count": 39,
      "id": "294ec138-aca6-4b98-ace6-788794f81593",
      "metadata": {
        "id": "294ec138-aca6-4b98-ace6-788794f81593",
        "outputId": "c240aecf-e144-4aad-aa11-bbe8080fe0d9",
        "colab": {
          "base_uri": "https://localhost:8080/"
        }
      },
      "outputs": [
        {
          "output_type": "execute_result",
          "data": {
            "text/plain": [
              "(31,)"
            ]
          },
          "metadata": {},
          "execution_count": 39
        }
      ],
      "source": [
        "Y_pred_knn.shape"
      ]
    },
    {
      "cell_type": "code",
      "execution_count": 40,
      "id": "8f504ff7-b4d9-4a5f-93d3-aa6e7a03145d",
      "metadata": {
        "id": "8f504ff7-b4d9-4a5f-93d3-aa6e7a03145d",
        "outputId": "1465b90d-0c21-421c-8e95-bbc80716f287",
        "colab": {
          "base_uri": "https://localhost:8080/"
        }
      },
      "outputs": [
        {
          "output_type": "stream",
          "name": "stdout",
          "text": [
            "The accuracy for KNN is: 22.58 %\n"
          ]
        }
      ],
      "source": [
        "score_knn = round(accuracy_score(Y_pred_knn,Y_test)*100,2)\n",
        "\n",
        "print(\"The accuracy for KNN is: \"+str(score_knn)+\" %\")"
      ]
    },
    {
      "cell_type": "markdown",
      "id": "662bf43c-15d8-4a82-b173-39ea981efdb4",
      "metadata": {
        "id": "662bf43c-15d8-4a82-b173-39ea981efdb4"
      },
      "source": [
        "# Decision Tree"
      ]
    },
    {
      "cell_type": "code",
      "execution_count": 41,
      "id": "ee77889d-e815-455a-9f7b-5d77fe609b9c",
      "metadata": {
        "id": "ee77889d-e815-455a-9f7b-5d77fe609b9c"
      },
      "outputs": [],
      "source": [
        "from sklearn.tree import DecisionTreeClassifier\n",
        "\n",
        "max_accuracy = 0\n",
        "\n",
        "\n",
        "for x in range(200):\n",
        "    dt = DecisionTreeClassifier(random_state=x)\n",
        "    dt.fit(X_train,Y_train)\n",
        "    Y_pred_dt = dt.predict(X_test)\n",
        "    current_accuracy = round(accuracy_score(Y_pred_dt,Y_test)*100,2)\n",
        "    if(current_accuracy>max_accuracy):\n",
        "        max_accuracy = current_accuracy\n",
        "        best_x = x\n",
        "        \n",
        "dt = DecisionTreeClassifier(random_state=best_x)\n",
        "dt.fit(X_train,Y_train)\n",
        "Y_pred_dt = dt.predict(X_test)"
      ]
    },
    {
      "cell_type": "code",
      "execution_count": 42,
      "id": "81141b34-7f20-4c25-9754-46b7b4a08595",
      "metadata": {
        "id": "81141b34-7f20-4c25-9754-46b7b4a08595",
        "outputId": "f9b92e79-30cb-4088-cf79-cbb34a1517ef",
        "colab": {
          "base_uri": "https://localhost:8080/"
        }
      },
      "outputs": [
        {
          "output_type": "stream",
          "name": "stdout",
          "text": [
            "(31,)\n"
          ]
        }
      ],
      "source": [
        "print(Y_pred_dt.shape)"
      ]
    },
    {
      "cell_type": "code",
      "execution_count": 43,
      "id": "ae497cf8-e44d-4586-bb02-24c7108686ca",
      "metadata": {
        "id": "ae497cf8-e44d-4586-bb02-24c7108686ca",
        "outputId": "4a63a156-b0c9-4a99-9981-6cc9aedce036",
        "colab": {
          "base_uri": "https://localhost:8080/"
        }
      },
      "outputs": [
        {
          "output_type": "stream",
          "name": "stdout",
          "text": [
            "The accuracy from Decision Tree is: 48.39 %\n"
          ]
        }
      ],
      "source": [
        "score_dt = round(accuracy_score(Y_pred_dt,Y_test)*100,2)\n",
        "\n",
        "print(\"The accuracy from Decision Tree is: \"+str(score_dt)+\" %\")"
      ]
    },
    {
      "cell_type": "markdown",
      "id": "64d4b599-8d88-4e43-9aed-780a87080dae",
      "metadata": {
        "id": "64d4b599-8d88-4e43-9aed-780a87080dae"
      },
      "source": [
        "# Random Forest Classifier"
      ]
    },
    {
      "cell_type": "code",
      "execution_count": 44,
      "id": "706a1c50-eb3e-48e9-9014-d04c1f73da68",
      "metadata": {
        "id": "706a1c50-eb3e-48e9-9014-d04c1f73da68",
        "outputId": "7d9932b6-a123-436e-ba4a-3c6597f1da55",
        "colab": {
          "base_uri": "https://localhost:8080/"
        }
      },
      "outputs": [
        {
          "output_type": "stream",
          "name": "stderr",
          "text": [
            "Intel(R) Extension for Scikit-learn* enabled (https://github.com/intel/scikit-learn-intelex)\n"
          ]
        }
      ],
      "source": [
        "from sklearnex import patch_sklearn\n",
        "patch_sklearn()\n",
        "from sklearn.ensemble import RandomForestClassifier\n",
        "\n",
        "max_accuracy = 0\n",
        "\n",
        "\n",
        "for x in range(2000):\n",
        "    rf = RandomForestClassifier(random_state=x)\n",
        "    rf.fit(X_train,Y_train)\n",
        "    Y_pred_rf = rf.predict(X_test)\n",
        "    current_accuracy = round(accuracy_score(Y_pred_rf,Y_test)*100,2)\n",
        "    if(current_accuracy>max_accuracy):\n",
        "        max_accuracy = current_accuracy\n",
        "        best_x = x\n",
        "\n",
        "rf = RandomForestClassifier(random_state=best_x)\n",
        "rf.fit(X_train,Y_train)\n",
        "Y_pred_rf = rf.predict(X_test)"
      ]
    },
    {
      "cell_type": "code",
      "execution_count": 45,
      "id": "86dc2672-6951-41a3-bd31-5d87638c3862",
      "metadata": {
        "id": "86dc2672-6951-41a3-bd31-5d87638c3862",
        "outputId": "303b29a1-bd6a-404c-e926-745dab9ad8c3",
        "colab": {
          "base_uri": "https://localhost:8080/"
        }
      },
      "outputs": [
        {
          "output_type": "execute_result",
          "data": {
            "text/plain": [
              "(31,)"
            ]
          },
          "metadata": {},
          "execution_count": 45
        }
      ],
      "source": [
        "Y_pred_rf.shape"
      ]
    },
    {
      "cell_type": "code",
      "execution_count": 46,
      "id": "2a1f5ae8-dc2c-4fad-a26f-ed3ef80102a0",
      "metadata": {
        "id": "2a1f5ae8-dc2c-4fad-a26f-ed3ef80102a0",
        "outputId": "aa9875d2-452d-456a-de36-83b8c10c176a",
        "colab": {
          "base_uri": "https://localhost:8080/"
        }
      },
      "outputs": [
        {
          "output_type": "stream",
          "name": "stdout",
          "text": [
            "The accuracy of Decision Tree is: 58.06 %\n"
          ]
        }
      ],
      "source": [
        "score_rf = round(accuracy_score(Y_pred_rf,Y_test)*100,2)\n",
        "\n",
        "print(\"The accuracy of Decision Tree is: \"+str(score_rf)+\" %\")"
      ]
    },
    {
      "cell_type": "markdown",
      "id": "1f37e5b8-08a6-4034-a492-6af783977fc2",
      "metadata": {
        "id": "1f37e5b8-08a6-4034-a492-6af783977fc2"
      },
      "source": [
        "# XGBOOST"
      ]
    },
    {
      "cell_type": "code",
      "execution_count": 47,
      "id": "89699699-aefd-41c0-9af8-be79958fc417",
      "metadata": {
        "id": "89699699-aefd-41c0-9af8-be79958fc417",
        "outputId": "df442586-d8e2-461e-cf99-2f2c0887c965",
        "colab": {
          "base_uri": "https://localhost:8080/"
        }
      },
      "outputs": [
        {
          "output_type": "stream",
          "name": "stderr",
          "text": [
            "Intel(R) Extension for Scikit-learn* enabled (https://github.com/intel/scikit-learn-intelex)\n"
          ]
        }
      ],
      "source": [
        "from sklearnex import patch_sklearn\n",
        "patch_sklearn()\n",
        "import xgboost as xgb\n",
        "\n",
        "xgb_model = xgb.XGBClassifier(objective=\"binary:logistic\", random_state=42)\n",
        "xgb_model.fit(X_train, Y_train)\n",
        "\n",
        "Y_pred_xgb = xgb_model.predict(X_test)"
      ]
    },
    {
      "cell_type": "code",
      "execution_count": 48,
      "id": "2c9d99f6-1a05-4538-bde5-480cfa99d81e",
      "metadata": {
        "id": "2c9d99f6-1a05-4538-bde5-480cfa99d81e",
        "outputId": "5b377bd3-c71a-4cff-9775-d97eefc57821",
        "colab": {
          "base_uri": "https://localhost:8080/"
        }
      },
      "outputs": [
        {
          "output_type": "execute_result",
          "data": {
            "text/plain": [
              "(31,)"
            ]
          },
          "metadata": {},
          "execution_count": 48
        }
      ],
      "source": [
        "Y_pred_xgb.shape"
      ]
    },
    {
      "cell_type": "code",
      "execution_count": 49,
      "id": "3eb27ac3-ff7f-4ac7-8f0a-2290d0ed1f4e",
      "metadata": {
        "id": "3eb27ac3-ff7f-4ac7-8f0a-2290d0ed1f4e",
        "outputId": "8d517e6b-5b0d-49cd-c973-43a4923c3913",
        "colab": {
          "base_uri": "https://localhost:8080/"
        }
      },
      "outputs": [
        {
          "output_type": "stream",
          "name": "stdout",
          "text": [
            "The accuracy score achieved using XGBoost is: 48.39 %\n"
          ]
        }
      ],
      "source": [
        "score_xgb = round(accuracy_score(Y_pred_xgb,Y_test)*100,2)\n",
        "\n",
        "print(\"The accuracy score achieved using XGBoost is: \"+str(score_xgb)+\" %\")"
      ]
    },
    {
      "cell_type": "markdown",
      "id": "e0acc2f0-36fa-4552-ac1e-5e853d984602",
      "metadata": {
        "id": "e0acc2f0-36fa-4552-ac1e-5e853d984602"
      },
      "source": [
        "# Final Ouptut"
      ]
    },
    {
      "cell_type": "code",
      "execution_count": 50,
      "id": "b3c395f8-824f-4152-b2da-8367a3023fee",
      "metadata": {
        "id": "b3c395f8-824f-4152-b2da-8367a3023fee",
        "outputId": "ca90f1a8-5046-4fc3-efc0-4617454b2069",
        "colab": {
          "base_uri": "https://localhost:8080/"
        }
      },
      "outputs": [
        {
          "output_type": "stream",
          "name": "stdout",
          "text": [
            "The accuracy score achieved using Logistic Regression is: 45.16 %\n",
            "The accuracy score achieved using Support Vector Machine is: 48.39 %\n",
            "The accuracy score achieved using K-Nearest Neighbors is: 22.58 %\n",
            "The accuracy score achieved using Decision Tree is: 48.39 %\n",
            "The accuracy score achieved using Random Forest is: 58.06 %\n",
            "The accuracy score achieved using XGBoost is: 48.39 %\n"
          ]
        }
      ],
      "source": [
        "scores = [score_lr,score_svm,score_knn,score_dt,score_rf,score_xgb]\n",
        "algorithms = [\"Logistic Regression\",\"Support Vector Machine\",\"K-Nearest Neighbors\",\"Decision Tree\",\"Random Forest\",\"XGBoost\"]    \n",
        "\n",
        "for i in range(len(algorithms)):\n",
        "    print(\"The accuracy score achieved using \"+algorithms[i]+\" is: \"+str(scores[i])+\" %\")"
      ]
    },
    {
      "cell_type": "code",
      "execution_count": 51,
      "id": "b0912546-341e-4046-80bb-76f1d427b1f1",
      "metadata": {
        "id": "b0912546-341e-4046-80bb-76f1d427b1f1",
        "outputId": "a9e1395f-c44c-4784-922f-9f40d65e65d0",
        "colab": {
          "base_uri": "https://localhost:8080/",
          "height": 385
        }
      },
      "outputs": [
        {
          "output_type": "execute_result",
          "data": {
            "text/plain": [
              "<AxesSubplot:xlabel='Algorithms', ylabel='Accuracy score'>"
            ]
          },
          "metadata": {},
          "execution_count": 51
        },
        {
          "output_type": "display_data",
          "data": {
            "text/plain": [
              "<Figure size 1080x576 with 1 Axes>"
            ],
            "image/png": "[encoded data removed]"
          },
          "metadata": {}
        }
      ],
      "source": [
        "sns.set(rc={'figure.figsize':(15,8)})\n",
        "plt.xlabel(\"Algorithms\")\n",
        "plt.ylabel(\"Accuracy score\")\n",
        "\n",
        "sns.barplot(algorithms,scores)"
      ]
    }
  ],
  "metadata": {
    "kernelspec": {
      "display_name": "Python 3 (OpenVINO 2020.3.2 LTS)",
      "language": "python",
      "name": "c003-python_3_lts"
    },
    "language_info": {
      "codemirror_mode": {
        "name": "ipython",
        "version": 3
      },
      "file_extension": ".py",
      "mimetype": "text/x-python",
      "name": "python",
      "nbconvert_exporter": "python",
      "pygments_lexer": "ipython3",
      "version": "3.6.9"
    },
    "colab": {
      "provenance": [],
      "toc_visible": true
    }
  },
  "nbformat": 4,
  "nbformat_minor": 5
}